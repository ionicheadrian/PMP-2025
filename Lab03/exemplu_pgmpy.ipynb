{
  "cells": [
    {
      "cell_type": "markdown",
      "metadata": {
        "colab_type": "text",
        "id": "view-in-github"
      },
      "source": [
        "<a href=\"https://colab.research.google.com/github/Tensor-Reloaded/PMP-2024/blob/main/Lab03/exemplu_pgmpy.ipynb\" target=\"_parent\"><img src=\"https://colab.research.google.com/assets/colab-badge.svg\" alt=\"Open In Colab\"/></a>"
      ]
    },
    {
      "cell_type": "markdown",
      "metadata": {
        "id": "_dRrGo9yGu97"
      },
      "source": [
        "Un anumit produs se poate afla la vanzare (20%) cu reducere sau cu pret intreg. Cumparatorul poate avea nevoie urgenta (5%) de produsul respectiv sau nu. Cumparatorul ia decizia sa cumpere produsul dupa urmatoarele reguli:\n",
        "1. produsul este la reducere si are nevoie urgent de el -> cumperi 100%\n",
        "2. produsul este la reducere dar nu are nevoie urgent de el -> cumperi 50%\n",
        "3. fara reducere si are nevoie urgent -> cumperi 80%\n",
        "4. fara reducere si nu are nevoie urgent -> cumperi 20%\n",
        "\n",
        "Afisati probabilitatea ca cumparatorul sa fi avut nevoie urgenta de produs daca stim ca acesta a cumparat produsul.\n",
        "\n",
        "**Raspuns teoretic:**\n",
        "\n",
        "$$\n",
        "P(U=1|C=1)=\\frac{P(C=1|U=1)P(U=1)}{P(C=1|U=1)P(U=1)+P(C=1|U=0)P(U=0)}.\n",
        "$$\n",
        "Avem:\n",
        "\\begin{align*}\n",
        "P(C=1|U=1)  & =P(C=1|U=1,R=1)P(R=1)+P(C=1|U=1,R=0)P(R=0)\\\\\n",
        "& =1\\cdot0.2+0.8\\cdot0.8=0.84;\\\\\n",
        "P(C=1|U=0)  & =P(C=1|U=0,R=1)P(R=1)+P(C=1|U=0,R=0)P(R=0)\\\\\n",
        "& =0.5\\cdot0.2+0.2\\cdot0.8=0.26.\n",
        "\\end{align*}\n",
        "Deci\n",
        "$$\n",
        "P(U=1|C=1)=\\frac{0.84\\cdot0.05}{0.84\\cdot0.05+0.26\\cdot0.95}=0.14533.\n",
        "$$"
      ]
    },
    {
      "cell_type": "markdown",
      "metadata": {
        "id": "9mGxUoAgGu98"
      },
      "source": [
        "Install Graphviz: https://graphviz.org/download/\n",
        "\n",
        "(For ARM Macs: https://github.com/pygraphviz/pygraphviz/issues/398)"
      ]
    },
    {
      "cell_type": "code",
      "execution_count": 4,
      "metadata": {
        "colab": {
          "base_uri": "https://localhost:8080/"
        },
        "collapsed": true,
        "id": "FAY8_wZWG_1y",
        "outputId": "1da09981-982f-47c6-acc5-1377428cf92d"
      },
      "outputs": [
        {
          "name": "stdout",
          "output_type": "stream",
          "text": [
            "zsh:1: command not found: apt\n",
            "Collecting pygraphviz\n",
            "  Using cached pygraphviz-1.14.tar.gz (106 kB)\n",
            "  Installing build dependencies ... \u001b[?25ldone\n",
            "\u001b[?25h  Getting requirements to build wheel ... \u001b[?25ldone\n",
            "\u001b[?25h  Preparing metadata (pyproject.toml) ... \u001b[?25ldone\n",
            "\u001b[?25hBuilding wheels for collected packages: pygraphviz\n",
            "  Building wheel for pygraphviz (pyproject.toml) ... \u001b[?25lerror\n",
            "  \u001b[1;31merror\u001b[0m: \u001b[1msubprocess-exited-with-error\u001b[0m\n",
            "  \n",
            "  \u001b[31m×\u001b[0m \u001b[32mBuilding wheel for pygraphviz \u001b[0m\u001b[1;32m(\u001b[0m\u001b[32mpyproject.toml\u001b[0m\u001b[1;32m)\u001b[0m did not run successfully.\n",
            "  \u001b[31m│\u001b[0m exit code: \u001b[1;36m1\u001b[0m\n",
            "  \u001b[31m╰─>\u001b[0m \u001b[31m[100 lines of output]\u001b[0m\n",
            "  \u001b[31m   \u001b[0m /private/var/folders/8m/p7grnjs15nx0bqz6tkr3zvvr0000gp/T/pip-build-env-dwl4sn_v/overlay/lib/python3.13/site-packages/setuptools/config/_apply_pyprojecttoml.py:82: SetuptoolsDeprecationWarning: `project.license` as a TOML table is deprecated\n",
            "  \u001b[31m   \u001b[0m !!\n",
            "  \u001b[31m   \u001b[0m \n",
            "  \u001b[31m   \u001b[0m         ********************************************************************************\n",
            "  \u001b[31m   \u001b[0m         Please use a simple string containing a SPDX expression for `project.license`. You can also use `project.license-files`. (Both options available on setuptools>=77.0.0).\n",
            "  \u001b[31m   \u001b[0m \n",
            "  \u001b[31m   \u001b[0m         By 2026-Feb-18, you need to update your project and remove deprecated calls\n",
            "  \u001b[31m   \u001b[0m         or your builds will no longer be supported.\n",
            "  \u001b[31m   \u001b[0m \n",
            "  \u001b[31m   \u001b[0m         See https://packaging.python.org/en/latest/guides/writing-pyproject-toml/#license for details.\n",
            "  \u001b[31m   \u001b[0m         ********************************************************************************\n",
            "  \u001b[31m   \u001b[0m \n",
            "  \u001b[31m   \u001b[0m !!\n",
            "  \u001b[31m   \u001b[0m   corresp(dist, value, root_dir)\n",
            "  \u001b[31m   \u001b[0m /private/var/folders/8m/p7grnjs15nx0bqz6tkr3zvvr0000gp/T/pip-build-env-dwl4sn_v/overlay/lib/python3.13/site-packages/setuptools/config/_apply_pyprojecttoml.py:61: SetuptoolsDeprecationWarning: License classifiers are deprecated.\n",
            "  \u001b[31m   \u001b[0m !!\n",
            "  \u001b[31m   \u001b[0m \n",
            "  \u001b[31m   \u001b[0m         ********************************************************************************\n",
            "  \u001b[31m   \u001b[0m         Please consider removing the following classifiers in favor of a SPDX license expression:\n",
            "  \u001b[31m   \u001b[0m \n",
            "  \u001b[31m   \u001b[0m         License :: OSI Approved :: BSD License\n",
            "  \u001b[31m   \u001b[0m \n",
            "  \u001b[31m   \u001b[0m         See https://packaging.python.org/en/latest/guides/writing-pyproject-toml/#license for details.\n",
            "  \u001b[31m   \u001b[0m         ********************************************************************************\n",
            "  \u001b[31m   \u001b[0m \n",
            "  \u001b[31m   \u001b[0m !!\n",
            "  \u001b[31m   \u001b[0m   dist._finalize_license_expression()\n",
            "  \u001b[31m   \u001b[0m /private/var/folders/8m/p7grnjs15nx0bqz6tkr3zvvr0000gp/T/pip-build-env-dwl4sn_v/overlay/lib/python3.13/site-packages/setuptools/dist.py:759: SetuptoolsDeprecationWarning: License classifiers are deprecated.\n",
            "  \u001b[31m   \u001b[0m !!\n",
            "  \u001b[31m   \u001b[0m \n",
            "  \u001b[31m   \u001b[0m         ********************************************************************************\n",
            "  \u001b[31m   \u001b[0m         Please consider removing the following classifiers in favor of a SPDX license expression:\n",
            "  \u001b[31m   \u001b[0m \n",
            "  \u001b[31m   \u001b[0m         License :: OSI Approved :: BSD License\n",
            "  \u001b[31m   \u001b[0m \n",
            "  \u001b[31m   \u001b[0m         See https://packaging.python.org/en/latest/guides/writing-pyproject-toml/#license for details.\n",
            "  \u001b[31m   \u001b[0m         ********************************************************************************\n",
            "  \u001b[31m   \u001b[0m \n",
            "  \u001b[31m   \u001b[0m !!\n",
            "  \u001b[31m   \u001b[0m   self._finalize_license_expression()\n",
            "  \u001b[31m   \u001b[0m running bdist_wheel\n",
            "  \u001b[31m   \u001b[0m running build\n",
            "  \u001b[31m   \u001b[0m running build_py\n",
            "  \u001b[31m   \u001b[0m creating build/lib.macosx-15.0-arm64-cpython-313/pygraphviz\n",
            "  \u001b[31m   \u001b[0m copying pygraphviz/scraper.py -> build/lib.macosx-15.0-arm64-cpython-313/pygraphviz\n",
            "  \u001b[31m   \u001b[0m copying pygraphviz/graphviz.py -> build/lib.macosx-15.0-arm64-cpython-313/pygraphviz\n",
            "  \u001b[31m   \u001b[0m copying pygraphviz/__init__.py -> build/lib.macosx-15.0-arm64-cpython-313/pygraphviz\n",
            "  \u001b[31m   \u001b[0m copying pygraphviz/agraph.py -> build/lib.macosx-15.0-arm64-cpython-313/pygraphviz\n",
            "  \u001b[31m   \u001b[0m copying pygraphviz/testing.py -> build/lib.macosx-15.0-arm64-cpython-313/pygraphviz\n",
            "  \u001b[31m   \u001b[0m creating build/lib.macosx-15.0-arm64-cpython-313/pygraphviz/tests\n",
            "  \u001b[31m   \u001b[0m copying pygraphviz/tests/test_unicode.py -> build/lib.macosx-15.0-arm64-cpython-313/pygraphviz/tests\n",
            "  \u001b[31m   \u001b[0m copying pygraphviz/tests/test_scraper.py -> build/lib.macosx-15.0-arm64-cpython-313/pygraphviz/tests\n",
            "  \u001b[31m   \u001b[0m copying pygraphviz/tests/test_readwrite.py -> build/lib.macosx-15.0-arm64-cpython-313/pygraphviz/tests\n",
            "  \u001b[31m   \u001b[0m copying pygraphviz/tests/test_string.py -> build/lib.macosx-15.0-arm64-cpython-313/pygraphviz/tests\n",
            "  \u001b[31m   \u001b[0m copying pygraphviz/tests/__init__.py -> build/lib.macosx-15.0-arm64-cpython-313/pygraphviz/tests\n",
            "  \u001b[31m   \u001b[0m copying pygraphviz/tests/test_html.py -> build/lib.macosx-15.0-arm64-cpython-313/pygraphviz/tests\n",
            "  \u001b[31m   \u001b[0m copying pygraphviz/tests/test_node_attributes.py -> build/lib.macosx-15.0-arm64-cpython-313/pygraphviz/tests\n",
            "  \u001b[31m   \u001b[0m copying pygraphviz/tests/test_drawing.py -> build/lib.macosx-15.0-arm64-cpython-313/pygraphviz/tests\n",
            "  \u001b[31m   \u001b[0m copying pygraphviz/tests/test_repr_mimebundle.py -> build/lib.macosx-15.0-arm64-cpython-313/pygraphviz/tests\n",
            "  \u001b[31m   \u001b[0m copying pygraphviz/tests/test_subgraph.py -> build/lib.macosx-15.0-arm64-cpython-313/pygraphviz/tests\n",
            "  \u001b[31m   \u001b[0m copying pygraphviz/tests/test_close.py -> build/lib.macosx-15.0-arm64-cpython-313/pygraphviz/tests\n",
            "  \u001b[31m   \u001b[0m copying pygraphviz/tests/test_edge_attributes.py -> build/lib.macosx-15.0-arm64-cpython-313/pygraphviz/tests\n",
            "  \u001b[31m   \u001b[0m copying pygraphviz/tests/test_clear.py -> build/lib.macosx-15.0-arm64-cpython-313/pygraphviz/tests\n",
            "  \u001b[31m   \u001b[0m copying pygraphviz/tests/test_layout.py -> build/lib.macosx-15.0-arm64-cpython-313/pygraphviz/tests\n",
            "  \u001b[31m   \u001b[0m copying pygraphviz/tests/test_attribute_defaults.py -> build/lib.macosx-15.0-arm64-cpython-313/pygraphviz/tests\n",
            "  \u001b[31m   \u001b[0m copying pygraphviz/tests/test_graph.py -> build/lib.macosx-15.0-arm64-cpython-313/pygraphviz/tests\n",
            "  \u001b[31m   \u001b[0m running egg_info\n",
            "  \u001b[31m   \u001b[0m writing pygraphviz.egg-info/PKG-INFO\n",
            "  \u001b[31m   \u001b[0m writing dependency_links to pygraphviz.egg-info/dependency_links.txt\n",
            "  \u001b[31m   \u001b[0m writing top-level names to pygraphviz.egg-info/top_level.txt\n",
            "  \u001b[31m   \u001b[0m reading manifest file 'pygraphviz.egg-info/SOURCES.txt'\n",
            "  \u001b[31m   \u001b[0m reading manifest template 'MANIFEST.in'\n",
            "  \u001b[31m   \u001b[0m warning: no files found matching '*.swg'\n",
            "  \u001b[31m   \u001b[0m warning: no files found matching '*.png' under directory 'doc'\n",
            "  \u001b[31m   \u001b[0m warning: no files found matching '*.html' under directory 'doc'\n",
            "  \u001b[31m   \u001b[0m warning: no files found matching '*.txt' under directory 'doc'\n",
            "  \u001b[31m   \u001b[0m warning: no files found matching '*.css' under directory 'doc'\n",
            "  \u001b[31m   \u001b[0m warning: no previously-included files matching '*~' found anywhere in distribution\n",
            "  \u001b[31m   \u001b[0m warning: no previously-included files matching '*.pyc' found anywhere in distribution\n",
            "  \u001b[31m   \u001b[0m warning: no previously-included files matching '.svn' found anywhere in distribution\n",
            "  \u001b[31m   \u001b[0m no previously-included directories found matching 'doc/build'\n",
            "  \u001b[31m   \u001b[0m adding license file 'LICENSE'\n",
            "  \u001b[31m   \u001b[0m writing manifest file 'pygraphviz.egg-info/SOURCES.txt'\n",
            "  \u001b[31m   \u001b[0m copying pygraphviz/graphviz.i -> build/lib.macosx-15.0-arm64-cpython-313/pygraphviz\n",
            "  \u001b[31m   \u001b[0m copying pygraphviz/graphviz_wrap.c -> build/lib.macosx-15.0-arm64-cpython-313/pygraphviz\n",
            "  \u001b[31m   \u001b[0m running build_ext\n",
            "  \u001b[31m   \u001b[0m building 'pygraphviz._graphviz' extension\n",
            "  \u001b[31m   \u001b[0m creating build/temp.macosx-15.0-arm64-cpython-313/pygraphviz\n",
            "  \u001b[31m   \u001b[0m clang -fno-strict-overflow -Wsign-compare -Wunreachable-code -fno-common -dynamic -DNDEBUG -g -O3 -Wall -DSWIG_PYTHON_STRICT_BYTE_CHAR -I/Users/cristiansimionescu/src/Teaching/PMP-2025/.venv/include -I/opt/homebrew/opt/python@3.13/Frameworks/Python.framework/Versions/3.13/include/python3.13 -c pygraphviz/graphviz_wrap.c -o build/temp.macosx-15.0-arm64-cpython-313/pygraphviz/graphviz_wrap.o\n",
            "  \u001b[31m   \u001b[0m pygraphviz/graphviz_wrap.c:9:9: warning: 'SWIG_PYTHON_STRICT_BYTE_CHAR' macro redefined [-Wmacro-redefined]\n",
            "  \u001b[31m   \u001b[0m     9 | #define SWIG_PYTHON_STRICT_BYTE_CHAR\n",
            "  \u001b[31m   \u001b[0m       |         ^\n",
            "  \u001b[31m   \u001b[0m <command line>:2:9: note: previous definition is here\n",
            "  \u001b[31m   \u001b[0m     2 | #define SWIG_PYTHON_STRICT_BYTE_CHAR 1\n",
            "  \u001b[31m   \u001b[0m       |         ^\n",
            "  \u001b[31m   \u001b[0m pygraphviz/graphviz_wrap.c:3023:10: fatal error: 'graphviz/cgraph.h' file not found\n",
            "  \u001b[31m   \u001b[0m  3023 | #include \"graphviz/cgraph.h\"\n",
            "  \u001b[31m   \u001b[0m       |          ^~~~~~~~~~~~~~~~~~~\n",
            "  \u001b[31m   \u001b[0m 1 warning and 1 error generated.\n",
            "  \u001b[31m   \u001b[0m error: command '/usr/bin/clang' failed with exit code 1\n",
            "  \u001b[31m   \u001b[0m \u001b[31m[end of output]\u001b[0m\n",
            "  \n",
            "  \u001b[1;35mnote\u001b[0m: This error originates from a subprocess, and is likely not a problem with pip.\n",
            "\u001b[?25h\u001b[31m  ERROR: Failed building wheel for pygraphviz\u001b[0m\u001b[31m\n",
            "\u001b[0mFailed to build pygraphviz\n",
            "\u001b[1;31merror\u001b[0m: \u001b[1mfailed-wheel-build-for-install\u001b[0m\n",
            "\n",
            "\u001b[31m×\u001b[0m Failed to build installable wheels for some pyproject.toml based projects\n",
            "\u001b[31m╰─>\u001b[0m pygraphviz\n",
            "Requirement already satisfied: networkx in /Users/cristiansimionescu/src/Teaching/PMP-2025/.venv/lib/python3.13/site-packages (3.5)\n",
            "Requirement already satisfied: pgmpy in /Users/cristiansimionescu/src/Teaching/PMP-2025/.venv/lib/python3.13/site-packages (1.0.0)\n",
            "Requirement already satisfied: networkx in /Users/cristiansimionescu/src/Teaching/PMP-2025/.venv/lib/python3.13/site-packages (from pgmpy) (3.5)\n",
            "Requirement already satisfied: numpy in /Users/cristiansimionescu/src/Teaching/PMP-2025/.venv/lib/python3.13/site-packages (from pgmpy) (2.3.3)\n",
            "Requirement already satisfied: scipy in /Users/cristiansimionescu/src/Teaching/PMP-2025/.venv/lib/python3.13/site-packages (from pgmpy) (1.16.2)\n",
            "Requirement already satisfied: scikit-learn in /Users/cristiansimionescu/src/Teaching/PMP-2025/.venv/lib/python3.13/site-packages (from pgmpy) (1.7.2)\n",
            "Requirement already satisfied: pandas in /Users/cristiansimionescu/src/Teaching/PMP-2025/.venv/lib/python3.13/site-packages (from pgmpy) (2.3.3)\n",
            "Requirement already satisfied: torch in /Users/cristiansimionescu/src/Teaching/PMP-2025/.venv/lib/python3.13/site-packages (from pgmpy) (2.8.0)\n",
            "Requirement already satisfied: statsmodels in /Users/cristiansimionescu/src/Teaching/PMP-2025/.venv/lib/python3.13/site-packages (from pgmpy) (0.14.5)\n",
            "Requirement already satisfied: tqdm in /Users/cristiansimionescu/src/Teaching/PMP-2025/.venv/lib/python3.13/site-packages (from pgmpy) (4.67.1)\n",
            "Requirement already satisfied: joblib in /Users/cristiansimionescu/src/Teaching/PMP-2025/.venv/lib/python3.13/site-packages (from pgmpy) (1.5.2)\n",
            "Requirement already satisfied: opt-einsum in /Users/cristiansimionescu/src/Teaching/PMP-2025/.venv/lib/python3.13/site-packages (from pgmpy) (3.4.0)\n",
            "Requirement already satisfied: pyro-ppl in /Users/cristiansimionescu/src/Teaching/PMP-2025/.venv/lib/python3.13/site-packages (from pgmpy) (1.9.1)\n",
            "Requirement already satisfied: python-dateutil>=2.8.2 in /Users/cristiansimionescu/src/Teaching/PMP-2025/.venv/lib/python3.13/site-packages (from pandas->pgmpy) (2.9.0.post0)\n",
            "Requirement already satisfied: pytz>=2020.1 in /Users/cristiansimionescu/src/Teaching/PMP-2025/.venv/lib/python3.13/site-packages (from pandas->pgmpy) (2025.2)\n",
            "Requirement already satisfied: tzdata>=2022.7 in /Users/cristiansimionescu/src/Teaching/PMP-2025/.venv/lib/python3.13/site-packages (from pandas->pgmpy) (2025.2)\n",
            "Requirement already satisfied: six>=1.5 in /Users/cristiansimionescu/src/Teaching/PMP-2025/.venv/lib/python3.13/site-packages (from python-dateutil>=2.8.2->pandas->pgmpy) (1.17.0)\n",
            "Requirement already satisfied: pyro-api>=0.1.1 in /Users/cristiansimionescu/src/Teaching/PMP-2025/.venv/lib/python3.13/site-packages (from pyro-ppl->pgmpy) (0.1.2)\n",
            "Requirement already satisfied: filelock in /Users/cristiansimionescu/src/Teaching/PMP-2025/.venv/lib/python3.13/site-packages (from torch->pgmpy) (3.19.1)\n",
            "Requirement already satisfied: typing-extensions>=4.10.0 in /Users/cristiansimionescu/src/Teaching/PMP-2025/.venv/lib/python3.13/site-packages (from torch->pgmpy) (4.15.0)\n",
            "Requirement already satisfied: setuptools in /Users/cristiansimionescu/src/Teaching/PMP-2025/.venv/lib/python3.13/site-packages (from torch->pgmpy) (80.9.0)\n",
            "Requirement already satisfied: sympy>=1.13.3 in /Users/cristiansimionescu/src/Teaching/PMP-2025/.venv/lib/python3.13/site-packages (from torch->pgmpy) (1.14.0)\n",
            "Requirement already satisfied: jinja2 in /Users/cristiansimionescu/src/Teaching/PMP-2025/.venv/lib/python3.13/site-packages (from torch->pgmpy) (3.1.6)\n",
            "Requirement already satisfied: fsspec in /Users/cristiansimionescu/src/Teaching/PMP-2025/.venv/lib/python3.13/site-packages (from torch->pgmpy) (2025.9.0)\n",
            "Requirement already satisfied: mpmath<1.4,>=1.1.0 in /Users/cristiansimionescu/src/Teaching/PMP-2025/.venv/lib/python3.13/site-packages (from sympy>=1.13.3->torch->pgmpy) (1.3.0)\n",
            "Requirement already satisfied: MarkupSafe>=2.0 in /Users/cristiansimionescu/src/Teaching/PMP-2025/.venv/lib/python3.13/site-packages (from jinja2->torch->pgmpy) (3.0.3)\n",
            "Requirement already satisfied: threadpoolctl>=3.1.0 in /Users/cristiansimionescu/src/Teaching/PMP-2025/.venv/lib/python3.13/site-packages (from scikit-learn->pgmpy) (3.6.0)\n",
            "Requirement already satisfied: patsy>=0.5.6 in /Users/cristiansimionescu/src/Teaching/PMP-2025/.venv/lib/python3.13/site-packages (from statsmodels->pgmpy) (1.0.1)\n",
            "Requirement already satisfied: packaging>=21.3 in /Users/cristiansimionescu/src/Teaching/PMP-2025/.venv/lib/python3.13/site-packages (from statsmodels->pgmpy) (25.0)\n"
          ]
        }
      ],
      "source": [
        "# graphviz is installed already, but need lib too\n",
        "!apt install libgraphviz-dev\n",
        "!pip install pygraphviz\n",
        "!pip install networkx\n",
        "!pip install pgmpy"
      ]
    },
    {
      "cell_type": "code",
      "execution_count": 5,
      "metadata": {
        "id": "eRDNMKYAGu98"
      },
      "outputs": [],
      "source": [
        "from pgmpy.models import DiscreteBayesianNetwork\n",
        "from pgmpy.factors.discrete import TabularCPD\n",
        "from pgmpy.inference import VariableElimination\n",
        "import matplotlib.pyplot as plt\n",
        "import networkx as nx"
      ]
    },
    {
      "cell_type": "code",
      "execution_count": null,
      "metadata": {
        "id": "MbyQVxzHGu99"
      },
      "outputs": [],
      "source": [
        "# Defining the model structure. We can define the network by just passing a list of edges.\n",
        "model = DiscreteBayesianNetwork([('R', 'C'), ('U', 'C')])\n",
        "\n",
        "# Defining individual CPDs.\n",
        "cpd_r = TabularCPD(variable='R', variable_card=2, values=[[0.8], [0.2]]) # R=0 full price, R=1 discount\n",
        "cpd_u = TabularCPD(variable='U', variable_card=2, values=[[0.95], [0.05]]) # U=0 no urgent need, U=1 urgent need\n",
        "\n",
        "# The CPD for C is defined using the conditional probabilities based on U and R\n",
        "cpd_c = TabularCPD(variable='C', variable_card=2,\n",
        "                   values=[[0.8, 0.5, 0.2, 0.0],\n",
        "                           [0.2, 0.5, 0.8, 1.0]],\n",
        "                  evidence=['U', 'R'],\n",
        "                  evidence_card=[2, 2])\n",
        "\n",
        "# Associating the CPDs with the network\n",
        "model.add_cpds(cpd_r, cpd_u, cpd_c)"
      ]
    },
    {
      "cell_type": "code",
      "execution_count": 7,
      "metadata": {
        "id": "FuiFkWhVGu99"
      },
      "outputs": [],
      "source": [
        "# Verifying the model\n",
        "assert model.check_model()"
      ]
    },
    {
      "cell_type": "code",
      "execution_count": 8,
      "metadata": {
        "colab": {
          "base_uri": "https://localhost:8080/",
          "height": 641
        },
        "id": "mIT60hXMGu99",
        "outputId": "4aea93ea-26f6-4957-dba3-61a59220c57c"
      },
      "outputs": [
        {
          "name": "stdout",
          "output_type": "stream",
          "text": [
            "+------+----------+\n",
            "| U    |   phi(U) |\n",
            "+======+==========+\n",
            "| U(0) |   0.8547 |\n",
            "+------+----------+\n",
            "| U(1) |   0.1453 |\n",
            "+------+----------+\n"
          ]
        },
        {
          "data": {
            "image/png": "[encoded data removed]",
            "text/plain": [
              "<Figure size 640x480 with 1 Axes>"
            ]
          },
          "metadata": {},
          "output_type": "display_data"
        }
      ],
      "source": [
        "# Performing exact inference using Variable Elimination\n",
        "infer = VariableElimination(model)\n",
        "result = infer.query(variables=['U'], evidence={'C': 1})\n",
        "print(result)\n",
        "\n",
        "pos = nx.circular_layout(model)\n",
        "nx.draw(model, pos=pos, with_labels=True, node_size=4000, font_weight='bold', node_color='skyblue')\n",
        "plt.show()\n"
      ]
    }
  ],
  "metadata": {
    "colab": {
      "include_colab_link": true,
      "provenance": []
    },
    "kernelspec": {
      "display_name": ".venv",
      "language": "python",
      "name": "python3"
    },
    "language_info": {
      "codemirror_mode": {
        "name": "ipython",
        "version": 3
      },
      "file_extension": ".py",
      "mimetype": "text/x-python",
      "name": "python",
      "nbconvert_exporter": "python",
      "pygments_lexer": "ipython3",
      "version": "3.13.5"
    }
  },
  "nbformat": 4,
  "nbformat_minor": 0
}
