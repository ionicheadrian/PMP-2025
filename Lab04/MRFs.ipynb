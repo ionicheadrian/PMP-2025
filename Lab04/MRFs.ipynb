{
 "cells": [
  {
   "cell_type": "code",
   "execution_count": 1,
   "metadata": {
    "colab": {
     "base_uri": "https://localhost:8080/"
    },
    "collapsed": true,
    "executionInfo": {
     "elapsed": 15135,
     "status": "ok",
     "timestamp": 1761283474118,
     "user": {
      "displayName": "Adrian Zalinescu",
      "userId": "12446656022086058673"
     },
     "user_tz": -180
    },
    "id": "TAM4Af5CQWR3",
    "outputId": "5ffbf170-1bc6-4e8e-cb63-8240a824a3d1"
   },
   "outputs": [
    {
     "name": "stdout",
     "output_type": "stream",
     "text": [
      "Requirement already satisfied: pgmpy in /Users/cristiansimionescu/src/Teaching/PMP-2025/.venv/lib/python3.13/site-packages (1.0.0)\n",
      "Requirement already satisfied: networkx in /Users/cristiansimionescu/src/Teaching/PMP-2025/.venv/lib/python3.13/site-packages (from pgmpy) (3.5)\n",
      "Requirement already satisfied: numpy in /Users/cristiansimionescu/src/Teaching/PMP-2025/.venv/lib/python3.13/site-packages (from pgmpy) (2.3.3)\n",
      "Requirement already satisfied: scipy in /Users/cristiansimionescu/src/Teaching/PMP-2025/.venv/lib/python3.13/site-packages (from pgmpy) (1.16.2)\n",
      "Requirement already satisfied: scikit-learn in /Users/cristiansimionescu/src/Teaching/PMP-2025/.venv/lib/python3.13/site-packages (from pgmpy) (1.7.2)\n",
      "Requirement already satisfied: pandas in /Users/cristiansimionescu/src/Teaching/PMP-2025/.venv/lib/python3.13/site-packages (from pgmpy) (2.3.3)\n",
      "Requirement already satisfied: torch in /Users/cristiansimionescu/src/Teaching/PMP-2025/.venv/lib/python3.13/site-packages (from pgmpy) (2.8.0)\n",
      "Requirement already satisfied: statsmodels in /Users/cristiansimionescu/src/Teaching/PMP-2025/.venv/lib/python3.13/site-packages (from pgmpy) (0.14.5)\n",
      "Requirement already satisfied: tqdm in /Users/cristiansimionescu/src/Teaching/PMP-2025/.venv/lib/python3.13/site-packages (from pgmpy) (4.67.1)\n",
      "Requirement already satisfied: joblib in /Users/cristiansimionescu/src/Teaching/PMP-2025/.venv/lib/python3.13/site-packages (from pgmpy) (1.5.2)\n",
      "Requirement already satisfied: opt-einsum in /Users/cristiansimionescu/src/Teaching/PMP-2025/.venv/lib/python3.13/site-packages (from pgmpy) (3.4.0)\n",
      "Requirement already satisfied: pyro-ppl in /Users/cristiansimionescu/src/Teaching/PMP-2025/.venv/lib/python3.13/site-packages (from pgmpy) (1.9.1)\n",
      "Requirement already satisfied: python-dateutil>=2.8.2 in /Users/cristiansimionescu/src/Teaching/PMP-2025/.venv/lib/python3.13/site-packages (from pandas->pgmpy) (2.9.0.post0)\n",
      "Requirement already satisfied: pytz>=2020.1 in /Users/cristiansimionescu/src/Teaching/PMP-2025/.venv/lib/python3.13/site-packages (from pandas->pgmpy) (2025.2)\n",
      "Requirement already satisfied: tzdata>=2022.7 in /Users/cristiansimionescu/src/Teaching/PMP-2025/.venv/lib/python3.13/site-packages (from pandas->pgmpy) (2025.2)\n",
      "Requirement already satisfied: six>=1.5 in /Users/cristiansimionescu/src/Teaching/PMP-2025/.venv/lib/python3.13/site-packages (from python-dateutil>=2.8.2->pandas->pgmpy) (1.17.0)\n",
      "Requirement already satisfied: pyro-api>=0.1.1 in /Users/cristiansimionescu/src/Teaching/PMP-2025/.venv/lib/python3.13/site-packages (from pyro-ppl->pgmpy) (0.1.2)\n",
      "Requirement already satisfied: filelock in /Users/cristiansimionescu/src/Teaching/PMP-2025/.venv/lib/python3.13/site-packages (from torch->pgmpy) (3.19.1)\n",
      "Requirement already satisfied: typing-extensions>=4.10.0 in /Users/cristiansimionescu/src/Teaching/PMP-2025/.venv/lib/python3.13/site-packages (from torch->pgmpy) (4.15.0)\n",
      "Requirement already satisfied: setuptools in /Users/cristiansimionescu/src/Teaching/PMP-2025/.venv/lib/python3.13/site-packages (from torch->pgmpy) (80.9.0)\n",
      "Requirement already satisfied: sympy>=1.13.3 in /Users/cristiansimionescu/src/Teaching/PMP-2025/.venv/lib/python3.13/site-packages (from torch->pgmpy) (1.14.0)\n",
      "Requirement already satisfied: jinja2 in /Users/cristiansimionescu/src/Teaching/PMP-2025/.venv/lib/python3.13/site-packages (from torch->pgmpy) (3.1.6)\n",
      "Requirement already satisfied: fsspec in /Users/cristiansimionescu/src/Teaching/PMP-2025/.venv/lib/python3.13/site-packages (from torch->pgmpy) (2025.9.0)\n",
      "Requirement already satisfied: mpmath<1.4,>=1.1.0 in /Users/cristiansimionescu/src/Teaching/PMP-2025/.venv/lib/python3.13/site-packages (from sympy>=1.13.3->torch->pgmpy) (1.3.0)\n",
      "Requirement already satisfied: MarkupSafe>=2.0 in /Users/cristiansimionescu/src/Teaching/PMP-2025/.venv/lib/python3.13/site-packages (from jinja2->torch->pgmpy) (3.0.3)\n",
      "Requirement already satisfied: threadpoolctl>=3.1.0 in /Users/cristiansimionescu/src/Teaching/PMP-2025/.venv/lib/python3.13/site-packages (from scikit-learn->pgmpy) (3.6.0)\n",
      "Requirement already satisfied: patsy>=0.5.6 in /Users/cristiansimionescu/src/Teaching/PMP-2025/.venv/lib/python3.13/site-packages (from statsmodels->pgmpy) (1.0.1)\n",
      "Requirement already satisfied: packaging>=21.3 in /Users/cristiansimionescu/src/Teaching/PMP-2025/.venv/lib/python3.13/site-packages (from statsmodels->pgmpy) (25.0)\n"
     ]
    }
   ],
   "source": [
    "!pip install pgmpy"
   ]
  },
  {
   "cell_type": "code",
   "execution_count": 2,
   "metadata": {
    "executionInfo": {
     "elapsed": 15,
     "status": "ok",
     "timestamp": 1761290232940,
     "user": {
      "displayName": "Adrian Zalinescu",
      "userId": "12446656022086058673"
     },
     "user_tz": -180
    },
    "id": "Nb9FLqaAZVjg"
   },
   "outputs": [],
   "source": [
    "# First import MarkovNetwork class from pgmpy.models\n",
    "from pgmpy.models import MarkovNetwork\n",
    "model = MarkovNetwork([('A', 'B'), ('B', 'C')])\n",
    "model.add_node('D')\n",
    "model.add_edges_from([('C', 'D'), ('D', 'A')])"
   ]
  },
  {
   "cell_type": "code",
   "execution_count": 3,
   "metadata": {
    "colab": {
     "base_uri": "https://localhost:8080/",
     "height": 516
    },
    "collapsed": true,
    "executionInfo": {
     "elapsed": 297,
     "status": "ok",
     "timestamp": 1761290273179,
     "user": {
      "displayName": "Adrian Zalinescu",
      "userId": "12446656022086058673"
     },
     "user_tz": -180
    },
    "id": "ftxS-1dyQUsJ",
    "outputId": "02082d47-07b8-4bd7-d106-21f7afeaa428"
   },
   "outputs": [
    {
     "data": {
      "image/png": "[encoded data removed]",
      "text/plain": [
       "<Figure size 640x480 with 1 Axes>"
      ]
     },
     "metadata": {},
     "output_type": "display_data"
    }
   ],
   "source": [
    "import networkx as nx\n",
    "pos = nx.circular_layout(model)\n",
    "nx.draw(model, with_labels=True, pos=pos, alpha=0.5, node_size=2000)"
   ]
  },
  {
   "cell_type": "code",
   "execution_count": 4,
   "metadata": {
    "id": "pF-Heog6Rqjw"
   },
   "outputs": [],
   "source": [
    "from pgmpy.factors.discrete import DiscreteFactor\n",
    "factor_a_b = DiscreteFactor(variables=['A', 'B'],cardinality=[2, 2],values=[90, 100, 1, 10])\n",
    "factor_b_c = DiscreteFactor(variables=['B', 'C'],cardinality=[2, 2],values=[10, 80, 70, 30])\n",
    "factor_c_d = DiscreteFactor(variables=['C', 'D'],cardinality=[2, 2],values=[10, 1, 100, 90])\n",
    "factor_d_a = DiscreteFactor(variables=['D', 'A'],cardinality=[2, 2],values=[80, 60, 20, 10])"
   ]
  },
  {
   "cell_type": "code",
   "execution_count": 5,
   "metadata": {
    "colab": {
     "base_uri": "https://localhost:8080/"
    },
    "collapsed": true,
    "executionInfo": {
     "elapsed": 12,
     "status": "ok",
     "timestamp": 1761290464456,
     "user": {
      "displayName": "Adrian Zalinescu",
      "userId": "12446656022086058673"
     },
     "user_tz": -180
    },
    "id": "9nvgv2qmSqDf",
    "outputId": "228840f9-a043-4c93-e858-d4ecba5048f5"
   },
   "outputs": [
    {
     "data": {
      "text/plain": [
       "[<DiscreteFactor representing phi(A:2, B:2) at 0x11d8aae40>,\n",
       " <DiscreteFactor representing phi(B:2, C:2) at 0x11d8e8410>,\n",
       " <DiscreteFactor representing phi(C:2, D:2) at 0x11d8e8190>,\n",
       " <DiscreteFactor representing phi(D:2, A:2) at 0x11da0c640>]"
      ]
     },
     "execution_count": 5,
     "metadata": {},
     "output_type": "execute_result"
    }
   ],
   "source": [
    "model.add_factors(factor_a_b, factor_b_c,factor_c_d, factor_d_a)\n",
    "model.get_factors()"
   ]
  },
  {
   "cell_type": "code",
   "execution_count": 6,
   "metadata": {
    "colab": {
     "base_uri": "https://localhost:8080/"
    },
    "collapsed": true,
    "executionInfo": {
     "elapsed": 7,
     "status": "ok",
     "timestamp": 1761290473265,
     "user": {
      "displayName": "Adrian Zalinescu",
      "userId": "12446656022086058673"
     },
     "user_tz": -180
    },
    "id": "3Bnfe3XqTM5m",
    "outputId": "3eb002a2-9ae1-4b47-d573-35da79e964a5"
   },
   "outputs": [
    {
     "data": {
      "text/plain": [
       "(A ⟂ C | D, B)\n",
       "(B ⟂ D | C, A)\n",
       "(C ⟂ A | D, B)\n",
       "(D ⟂ B | C, A)"
      ]
     },
     "execution_count": 6,
     "metadata": {},
     "output_type": "execute_result"
    }
   ],
   "source": [
    "model.get_local_independencies()"
   ]
  },
  {
   "cell_type": "code",
   "execution_count": 7,
   "metadata": {
    "colab": {
     "base_uri": "https://localhost:8080/"
    },
    "collapsed": true,
    "executionInfo": {
     "elapsed": 11,
     "status": "ok",
     "timestamp": 1761290598099,
     "user": {
      "displayName": "Adrian Zalinescu",
      "userId": "12446656022086058673"
     },
     "user_tz": -180
    },
    "id": "DBHYjKN-Tjft",
    "outputId": "ae3f9367-3df0-4d78-dc1b-2b7e42b48868"
   },
   "outputs": [
    {
     "name": "stdout",
     "output_type": "stream",
     "text": [
      "{'A': 0, 'B': 0, 'C': 1, 'D': 0}\n"
     ]
    }
   ],
   "source": [
    "from pgmpy.inference import BeliefPropagation\n",
    "bp_infer = BeliefPropagation(model)\n",
    "marginals = bp_infer.map_query(variables=['A','B','C','D'])\n",
    "print(marginals)"
   ]
  }
 ],
 "metadata": {
  "colab": {
   "authorship_tag": "ABX9TyPOL7uihPziTnUbi4uVHBX6",
   "provenance": []
  },
  "kernelspec": {
   "display_name": ".venv",
   "language": "python",
   "name": "python3"
  },
  "language_info": {
   "codemirror_mode": {
    "name": "ipython",
    "version": 3
   },
   "file_extension": ".py",
   "mimetype": "text/x-python",
   "name": "python",
   "nbconvert_exporter": "python",
   "pygments_lexer": "ipython3",
   "version": "3.13.5"
  }
 },
 "nbformat": 4,
 "nbformat_minor": 0
}
